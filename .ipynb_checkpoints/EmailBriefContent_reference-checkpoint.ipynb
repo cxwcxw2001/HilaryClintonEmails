{
 "cells": [
  {
   "cell_type": "code",
   "execution_count": 3,
   "metadata": {
    "collapsed": false
   },
   "outputs": [],
   "source": [
    "import sqlite3\n",
    "import sys"
   ]
  },
  {
   "cell_type": "code",
   "execution_count": 4,
   "metadata": {
    "collapsed": true
   },
   "outputs": [],
   "source": [
    "sentences=set()"
   ]
  },
  {
   "cell_type": "code",
   "execution_count": 5,
   "metadata": {
    "collapsed": true
   },
   "outputs": [],
   "source": [
    "def is_good(sentence, ending):\n",
    "    # If the length of sentence >75, then not good\n",
    "    if len(sentence) > 75:\n",
    "        return False\n",
    "    # If the length of sentence <13, then not good\n",
    "    if len(sentence) < 13:\n",
    "        return False\n",
    "    # If the first character is not in upper case, then not good\n",
    "    if not sentence[0].isupper():\n",
    "        return False\n",
    "    global sentences\n",
    "    if (sentence in sentences): \n",
    "        return False\n",
    "    # If the sentence ends with 'ion', then not good\n",
    "    if (ending == 'on.' and sentence.endswith('i' + ending)):\n",
    "        return False\n",
    "    # If the sentence ends with 'oo', then not good\n",
    "    if (ending[0]=='o' and sentence.endswith('o' + ending)):\n",
    "        return False\n",
    "    sentences.add(sentence)\n",
    "    return True"
   ]
  },
  {
   "cell_type": "code",
   "execution_count": 6,
   "metadata": {
    "collapsed": true
   },
   "outputs": [],
   "source": [
    "# Create a sentence out of single word\n",
    "def extract_sentence(words, ending):\n",
    "    delims = [';','@','.',':','\"',\"*\",'--','?','_',')','(']\n",
    "    sentence = []\n",
    "    for word in words:\n",
    "        sentence.append(word)\n",
    "        if word.endswith(ending):\n",
    "            return ' '.join(sentence)\n",
    "        # If the word is a delimiter, then all the words that are previously read\n",
    "        # in are erased, and move on to the next word\n",
    "        if any(delim in word for delim in delims):\n",
    "            sentence = []\n",
    "            continue"
   ]
  },
  {
   "cell_type": "code",
   "execution_count": 7,
   "metadata": {
    "collapsed": true
   },
   "outputs": [],
   "source": [
    "def takePhrase(ending,min_id=0):\n",
    "    con=sqlite3.connect(\"/Users/xiaoweichen/Kaggle/ClintonEmails/data/database.sqlite\")\n",
    "    with con:\n",
    "        while True:\n",
    "            cur=con.cursor()\n",
    "            cur.execute((\"SELECT Id,ExtractedBodyText FROM Emails WHERE\" +\n",
    "                        \" ExtractedBodyText LIKE '%{}%' AND Id > {} \"+\n",
    "                        \" order by Id LIMIT 1\").format(ending,min_id))\n",
    "            # fetches the next row of the query result set\n",
    "            data=cur.fetchone()\n",
    "            min_id=data[0]\n",
    "            print ((\"\\nmin_id from takePhrase is {}\").format(min_id))\n",
    "            sentence=extract_sentence(data[1].split(),ending)\n",
    "            if sentence == None:\n",
    "                return min_id,sentence\n",
    "            if is_good(sentence,ending):\n",
    "                return min_id,sentence"
   ]
  },
  {
   "cell_type": "code",
   "execution_count": null,
   "metadata": {
    "collapsed": true
   },
   "outputs": [],
   "source": [
    "def rhyme_generate(endings, total):\n",
    "    min_id = 0;\n",
    "    it = iter(endings)\n",
    "    ending = next(it)\n",
    "    for i in range(total):\n",
    "            min_id, phrase = takePhrase(ending, min_id)\n",
    "            while (phrase == None):\n",
    "                ending = next(it)\n",
    "                min_id, phrase = takePhrase(ending)\n",
    "            yield phrase\n",
    "            \n",
    "def rhyme_generate(endings,total):\n",
    "    min_id=0\n",
    "    it=iter(endings)\n",
    "    ending=next(it)\n",
    "    for i in range(total):\n",
    "        min_id,phrase=takePhrase(ending,min_id)\n",
    "        while (phrase == None):\n",
    "            ending=next(it)\n",
    "            "
   ]
  },
  {
   "cell_type": "code",
   "execution_count": null,
   "metadata": {
    "collapsed": true
   },
   "outputs": [],
   "source": []
  }
 ],
 "metadata": {
  "kernelspec": {
   "display_name": "Python 2",
   "language": "python",
   "name": "python2"
  },
  "language_info": {
   "codemirror_mode": {
    "name": "ipython",
    "version": 2
   },
   "file_extension": ".py",
   "mimetype": "text/x-python",
   "name": "python",
   "nbconvert_exporter": "python",
   "pygments_lexer": "ipython2",
   "version": "2.7.11"
  }
 },
 "nbformat": 4,
 "nbformat_minor": 0
}

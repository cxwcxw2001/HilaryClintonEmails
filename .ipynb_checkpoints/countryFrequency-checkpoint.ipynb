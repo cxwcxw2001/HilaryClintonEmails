{
 "cells": [
  {
   "cell_type": "code",
   "execution_count": 10,
   "metadata": {
    "collapsed": false
   },
   "outputs": [],
   "source": [
    "%matplotlib inline\n",
    "\n",
    "import nltk\n",
    "import pandas as pd\n",
    "import sqlite3\n",
    "from nltk.corpus import stopwords\n",
    "from nltk import FreqDist\n",
    "from collections import Counter\n",
    "from collections import OrderedDict"
   ]
  },
  {
   "cell_type": "code",
   "execution_count": 2,
   "metadata": {
    "collapsed": true
   },
   "outputs": [],
   "source": [
    "con=sqlite3.connect(\"/Users/xiaoweichen/Kaggle/ClintonEmails/data/database.sqlite\")"
   ]
  },
  {
   "cell_type": "code",
   "execution_count": 3,
   "metadata": {
    "collapsed": false
   },
   "outputs": [],
   "source": [
    "query_text=\"SELECT ExtractedBodyText FROM Emails\"\n",
    "raw_text=pd.read_sql_query(query_text,con)"
   ]
  },
  {
   "cell_type": "code",
   "execution_count": 4,
   "metadata": {
    "collapsed": true
   },
   "outputs": [],
   "source": [
    "# Read in country list\n",
    "raw_countries=pd.read_csv(\"/Users/xiaoweichen/Kaggle/ClintonEmails/iso_3166_2_countries.csv\")\n",
    "country_list=list(raw_countries[\"Common Name\"])\n",
    "country_list=[country.lower() for country in country_list]"
   ]
  },
  {
   "cell_type": "code",
   "execution_count": 5,
   "metadata": {
    "collapsed": false
   },
   "outputs": [
    {
     "name": "stderr",
     "output_type": "stream",
     "text": [
      "/Users/xiaoweichen/AnacondaPython/anaconda/lib/python2.7/site-packages/ipykernel/__main__.py:4: UnicodeWarning: Unicode equal comparison failed to convert both arguments to Unicode - interpreting them as being unequal\n"
     ]
    }
   ],
   "source": [
    "def extract_country(raw_email_text,country_list):\n",
    "    email_text_lower=raw_email_text.lower()\n",
    "    email_words=nltk.word_tokenize(email_text_lower)\n",
    "    country_in_email=[word for word in email_words if word in country_list]\n",
    "    return country_in_email\n",
    "\n",
    "# Remove stopwords from email text\n",
    "countries_mentioned=raw_text['ExtractedBodyText'].apply(lambda x:extract_country(x,country_list))"
   ]
  },
  {
   "cell_type": "code",
   "execution_count": 6,
   "metadata": {
    "collapsed": false
   },
   "outputs": [],
   "source": [
    "# Combine all text into one string\n",
    "countries_mentioned_list=[]\n",
    "for index,string in countries_mentioned.iteritems():\n",
    "    for word in string:\n",
    "        if len(word)!=0:\n",
    "            countries_mentioned_list.append(word)"
   ]
  },
  {
   "cell_type": "code",
   "execution_count": 7,
   "metadata": {
    "collapsed": false
   },
   "outputs": [],
   "source": [
    "country_freq=nltk.FreqDist(countries_mentioned_list)"
   ]
  },
  {
   "cell_type": "code",
   "execution_count": 12,
   "metadata": {
    "collapsed": false
   },
   "outputs": [
    {
     "data": {
      "text/plain": [
       "[(u'israel', 499),\n",
       " (u'afghanistan', 392),\n",
       " (u'iran', 320),\n",
       " (u'haiti', 242),\n",
       " (u'pakistan', 211),\n",
       " (u'iraq', 195),\n",
       " (u'libya', 168),\n",
       " (u'india', 125),\n",
       " (u'ireland', 110),\n",
       " (u'russia', 83),\n",
       " (u'germany', 69),\n",
       " (u'palau', 68),\n",
       " (u'mexico', 68),\n",
       " (u'egypt', 60),\n",
       " (u'honduras', 51),\n",
       " (u'indonesia', 50),\n",
       " (u'turkey', 45),\n",
       " (u'brazil', 45),\n",
       " (u'france', 41),\n",
       " (u'sudan', 40)]"
      ]
     },
     "execution_count": 12,
     "metadata": {},
     "output_type": "execute_result"
    }
   ],
   "source": [
    "country_freq.most_common(20)"
   ]
  },
  {
   "cell_type": "code",
   "execution_count": 19,
   "metadata": {
    "collapsed": false
   },
   "outputs": [
    {
     "data": {
      "text/plain": [
       "<matplotlib.axes._subplots.AxesSubplot at 0x113fc5950>"
      ]
     },
     "execution_count": 19,
     "metadata": {},
     "output_type": "execute_result"
    },
    {
     "data": {
      "image/png": "[encoded data removed]",
      "text/plain": [
       "<matplotlib.figure.Figure at 0x11353dfd0>"
      ]
     },
     "metadata": {},
     "output_type": "display_data"
    }
   ],
   "source": [
    "# Plot top 20 most-frequently-mentioned country\n",
    "top_country_freq={}\n",
    "for country,times in country_freq.most_common(20):\n",
    "    top_country_freq[country.upper()]=times \n",
    "\n",
    "result_set=pd.DataFrame({\"Country\":top_country_freq.keys(),\"Mentioned_Times\":top_country_freq.values()})\n",
    "result_set.sort_values(by=\"Mentioned_Times\").plot(kind='bar',x=\"Country\",y=\"Mentioned_Times\")"
   ]
  }
 ],
 "metadata": {
  "kernelspec": {
   "display_name": "Python 2",
   "language": "python",
   "name": "python2"
  },
  "language_info": {
   "codemirror_mode": {
    "name": "ipython",
    "version": 2
   },
   "file_extension": ".py",
   "mimetype": "text/x-python",
   "name": "python",
   "nbconvert_exporter": "python",
   "pygments_lexer": "ipython2",
   "version": "2.7.11"
  }
 },
 "nbformat": 4,
 "nbformat_minor": 0
}

{
 "cells": [
  {
   "cell_type": "code",
   "execution_count": 1,
   "metadata": {
    "collapsed": true
   },
   "outputs": [],
   "source": [
    "import nltk\n",
    "import pandas as pd\n",
    "import sqlite3\n",
    "from nltk.corpus import stopwords\n",
    "from nltk import FreqDist\n",
    "from collections import Counter\n",
    "from collections import OrderedDict"
   ]
  },
  {
   "cell_type": "code",
   "execution_count": 2,
   "metadata": {
    "collapsed": true
   },
   "outputs": [],
   "source": [
    "con=sqlite3.connect(\"/Users/xiaoweichen/Kaggle/ClintonEmails/data/database.sqlite\")"
   ]
  },
  {
   "cell_type": "code",
   "execution_count": 3,
   "metadata": {
    "collapsed": false
   },
   "outputs": [],
   "source": [
    "query_text=\"SELECT p.Name,e.ExtractedBodyText FROM Emails AS e JOIN Persons as p ON e.SenderPersonId=p.Id\"\n",
    "df=pd.read_sql_query(query_text,con)"
   ]
  },
  {
   "cell_type": "code",
   "execution_count": 4,
   "metadata": {
    "collapsed": false
   },
   "outputs": [],
   "source": [
    "# Concatenate all email text sent by the same person\n",
    "text_by_sender=df.groupby(\"Name\")['ExtractedBodyText'].apply(lambda x: \" \".join(x))"
   ]
  },
  {
   "cell_type": "code",
   "execution_count": 6,
   "metadata": {
    "collapsed": false
   },
   "outputs": [],
   "source": [
    "def cleanup_email(raw_email_text,filter_set):\n",
    "    email_text_lower=raw_email_text.lower()\n",
    "    email_words=nltk.word_tokenize(email_text_lower)\n",
    "    clean_email_words=[word for word in email_words if word not in filter_set]\n",
    "    clean_email_text=[]\n",
    "    for clean_email_word in clean_email_words:\n",
    "        if not len(clean_email_word)==0:\n",
    "            clean_email_text.append(clean_email_word)\n",
    "    return (clean_email_text)"
   ]
  },
  {
   "cell_type": "code",
   "execution_count": 7,
   "metadata": {
    "collapsed": false
   },
   "outputs": [],
   "source": [
    "# Remove stopwords from email text\n",
    "filter_set=set(stopwords.words(\"English\"))\n",
    "filter_set.update([\",\",\".\",\"?\",\"!\",\"(\",\")\",\":\",\";\",\"-\",\"'s\",\"...\",\"''\",\"u\",\"thx\",\"fyi\",\"pm\",\"<\",\">\",\"@\",\"\\n\",\"un\",\\\n",
    "                   \"cc\",\"n't\",\"``\",\"--\",\"'ve\",\"[\",\"]\",\"#\"])\n",
    "clean_text_by_sender=text_by_sender.apply(lambda x:cleanup_email(x,filter_set))"
   ]
  },
  {
   "cell_type": "code",
   "execution_count": 21,
   "metadata": {
    "collapsed": true
   },
   "outputs": [],
   "source": [
    "def top_5_nouns(raw_email_text):\n",
    "    pos_tags=nltk.pos_tag(raw_email_text)\n",
    "    nouns=[word for (word,tag) in pos_tags if tag==\"NN\"]\n",
    "    return [noun for (noun,freq) in FreqDist(nouns).most_common(5)]"
   ]
  },
  {
   "cell_type": "code",
   "execution_count": null,
   "metadata": {
    "collapsed": false
   },
   "outputs": [],
   "source": [
    "clean_text_by_sender.apply(top_5_nouns)"
   ]
  },
  {
   "cell_type": "code",
   "execution_count": null,
   "metadata": {
    "collapsed": true
   },
   "outputs": [],
   "source": []
  },
  {
   "cell_type": "code",
   "execution_count": 20,
   "metadata": {
    "collapsed": false
   },
   "outputs": [
    {
     "data": {
      "text/plain": [
       "[(u'government', 26),\n",
       " (u'committee', 22),\n",
       " (u'settlement', 20),\n",
       " (u'community', 10),\n",
       " (u'authority', 8),\n",
       " (u'articulate', 6),\n",
       " (u'management', 6),\n",
       " (u'accountability', 6),\n",
       " (u'reconstruction', 4),\n",
       " (u'expertise', 4)]"
      ]
     },
     "execution_count": 20,
     "metadata": {},
     "output_type": "execute_result"
    }
   ],
   "source": [
    "word_and_pos=nltk.pos_tag(clean_text_by_sender[20])\n",
    "freq_noun=[]\n",
    "# Only consider the words that are (1) noun (2) length>8\n",
    "for word,category in word_and_pos:\n",
    "    if category==\"NN\" and len(word)>8:\n",
    "         freq_noun.append(word)\n",
    "\n",
    "fdist=FreqDist(freq_noun)\n",
    "fdist.most_common(10)"
   ]
  },
  {
   "cell_type": "code",
   "execution_count": null,
   "metadata": {
    "collapsed": true
   },
   "outputs": [],
   "source": []
  }
 ],
 "metadata": {
  "kernelspec": {
   "display_name": "Python 2",
   "language": "python",
   "name": "python2"
  },
  "language_info": {
   "codemirror_mode": {
    "name": "ipython",
    "version": 2
   },
   "file_extension": ".py",
   "mimetype": "text/x-python",
   "name": "python",
   "nbconvert_exporter": "python",
   "pygments_lexer": "ipython2",
   "version": "2.7.11"
  }
 },
 "nbformat": 4,
 "nbformat_minor": 0
}
